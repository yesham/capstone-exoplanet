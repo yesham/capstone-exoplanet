{
 "cells": [
  {
   "cell_type": "markdown",
   "metadata": {},
   "source": [
    "# Machine Learning Engineering Nanodegree\n",
    "## Capstone Project\n",
    "### Yeshaswini Mohan\n",
    "### August 12, 2018\n",
    "## Exoplanet Hunting in Deep Space"
   ]
  },
  {
   "cell_type": "markdown",
   "metadata": {},
   "source": [
    "This project will involve creating an supervised learning algorithm that can correctly predict whether a star system has a planet. There are two datasets: one named exoTrain.csv and one named exoTest.csv. The data from exoTrain.csv will be used to train the algorithm. \n",
    "\n",
    "The exoTrain.csv file has 5087 observations with 37 confirmed exoplanets and the exoTest.csv file has 570 observations with 5 confirmed exoplanets. \n",
    "\n",
    "The algorithm chosen for this project is a DecisionTreeClassifier. The accuracy of the classification can be measured with an accuracy score and an f1score. However, it would also be interesting to see if which systems the classifier has confirmed to have planets and compare it to the actual result. \n",
    "\n",
    "Lastly, in addition to the DecisionTreeClassifier, the XGBoost and the LightGBM methods will also be used and will be useful in comparing the results of the trained DecisionTreeClassifier. "
   ]
  },
  {
   "cell_type": "markdown",
   "metadata": {},
   "source": [
    "## Preprocessing\n",
    "### Downloading and Splitting Training Data "
   ]
  },
  {
   "cell_type": "markdown",
   "metadata": {},
   "source": [
    "The data from exoTrain.csv will be downloaded and split into a training and testing set. \n",
    "\n",
    "The first column of the dataset is the label or the Y-values entered into the train_test_split. The values labeled 2 are systems with exoplanets. The values labeled 1 are systems without exoplanets. Therefore, there are 37 systems labeled with a 2, and the rest are labeled with a 1. "
   ]
  },
  {
   "cell_type": "code",
   "execution_count": 1,
   "metadata": {},
   "outputs": [
    {
     "name": "stderr",
     "output_type": "stream",
     "text": [
      "/anaconda3/lib/python3.6/site-packages/sklearn/cross_validation.py:41: DeprecationWarning: This module was deprecated in version 0.18 in favor of the model_selection module into which all the refactored classes and functions are moved. Also note that the interface of the new CV iterators are different from that of this module. This module will be removed in 0.20.\n",
      "  \"This module will be removed in 0.20.\", DeprecationWarning)\n"
     ]
    }
   ],
   "source": [
    "#Importing necessary libraries for splitting data into training and testing sets\n",
    "import numpy as np\n",
    "import pandas as pd\n",
    "from sklearn.cross_validation import train_test_split\n",
    "\n",
    "#Importing exoTrain.csv\n",
    "data = pd.read_csv(\"exoTrain.csv\")\n",
    "\n",
    "\"\"\"\n",
    "The data from both datasets have their label array as their first column.\n",
    "The dataset needs to be separated into the label and data inputs for the train_test_split function.\n",
    "\"\"\"\n",
    "X= data.iloc[:,1:]\n",
    "Y = data.iloc[:,0]\n",
    "\n",
    "#Splitting data into training and testing set\n",
    "X_train, X_test, y_train, y_test = train_test_split(X,Y, test_size=0.05, random_state=28)"
   ]
  },
  {
   "cell_type": "markdown",
   "metadata": {},
   "source": [
    "## Implementation and Refinement"
   ]
  },
  {
   "cell_type": "markdown",
   "metadata": {},
   "source": [
    "In this portion, the baseline model for each algorithm will be created. The accuracy and fbeta score will be calculated for both the training and testing data obtained above. \n",
    "\n",
    "A trained model will then be created. To do this, GridSearchCV will be used to find the best parameters for a better accuracy. \n",
    "\n",
    "To test this model, the X values obtained above will be put into the model and the new Y label outputs will be compared with the original Y values. A list will be generated that shows the predicted exoplanet from the output Y values from the trained model. \n",
    "\n",
    "This will be done for all three algorithms. "
   ]
  },
  {
   "cell_type": "markdown",
   "metadata": {},
   "source": [
    "### Decision Tree Classifier "
   ]
  },
  {
   "cell_type": "markdown",
   "metadata": {},
   "source": [
    "#### Baseline Model"
   ]
  },
  {
   "cell_type": "code",
   "execution_count": 2,
   "metadata": {},
   "outputs": [
    {
     "name": "stdout",
     "output_type": "stream",
     "text": [
      "The training accuracy is 1.0\n",
      "The testing accuracy is 0.988235294118\n",
      "The training fbeta is 1.0\n",
      "The testing fbeta is 0.997624703088\n"
     ]
    }
   ],
   "source": [
    "#Importing DecisionTreeClassifier and scoring metrics\n",
    "from sklearn.tree import DecisionTreeClassifier\n",
    "from sklearn.metrics import accuracy_score\n",
    "from sklearn.metrics import fbeta_score\n",
    "\n",
    "#Baseline model being used\n",
    "model10 = DecisionTreeClassifier()\n",
    "mod10 = model10.fit(X_train, y_train)\n",
    "\n",
    "#Finding the train and test predicted output values \n",
    "y_train_pred10 = mod10.predict(X_train)\n",
    "y_test_pred10 = mod10.predict(X_test)\n",
    "\n",
    "#Training accuracy scores\n",
    "train_accuracy10 = accuracy_score(y_train, y_train_pred10)\n",
    "test_accuracy10 = accuracy_score(y_test, y_test_pred10)\n",
    "\n",
    "#Training fbeta (f1score)\n",
    "train_fbe10 = fbeta_score(y_train, y_train_pred10,beta=0.5)\n",
    "test_fbe10 = fbeta_score(y_test, y_test_pred10,beta=0.5)\n",
    "\n",
    "#Printing scores\n",
    "print('The training accuracy is', train_accuracy10)\n",
    "print('The testing accuracy is', test_accuracy10)\n",
    "print('The training fbeta is', train_fbe10)\n",
    "print('The testing fbeta is', test_fbe10)"
   ]
  },
  {
   "cell_type": "markdown",
   "metadata": {},
   "source": [
    "#### Finding Best Parameters"
   ]
  },
  {
   "cell_type": "code",
   "execution_count": 3,
   "metadata": {},
   "outputs": [
    {
     "data": {
      "text/plain": [
       "{'min_samples_leaf': 3, 'min_samples_split': 2}"
      ]
     },
     "execution_count": 3,
     "metadata": {},
     "output_type": "execute_result"
    }
   ],
   "source": [
    "from sklearn.model_selection import GridSearchCV\n",
    "from sklearn import datasets\n",
    "\n",
    "parameters = {'min_samples_split':[2,3,4,5,6,7,8,9,10,11,12,13,14,15,], \n",
    "              'min_samples_leaf':[1,2,3,4,5,6,7,8,9,10]}\n",
    "iris = datasets.load_iris()\n",
    "gsv = GridSearchCV(model10,parameters,cv=10)\n",
    "gsv.fit(iris.data, iris.target)\n",
    "gsv.best_params_"
   ]
  },
  {
   "cell_type": "markdown",
   "metadata": {},
   "source": [
    "#### Training Model"
   ]
  },
  {
   "cell_type": "code",
   "execution_count": 4,
   "metadata": {},
   "outputs": [
    {
     "name": "stdout",
     "output_type": "stream",
     "text": [
      "The training accuracy is 0.997723509934\n",
      "The testing accuracy is 1.0\n",
      "The training fbeta is 0.997584767332\n",
      "The testing fbeta is 1.0\n"
     ]
    }
   ],
   "source": [
    "model1 = DecisionTreeClassifier(min_samples_leaf=3, min_samples_split=2)\n",
    "\n",
    "#Model trained with training data\n",
    "mod1 = model1.fit(X_train, y_train)\n",
    "\n",
    "# Making predictions\n",
    "y_train_pred1 = mod1.predict(X_train)\n",
    "y_test_pred1 = mod1.predict(X_test)\n",
    "\n",
    "# Calculating accuracies\n",
    "train_accuracy1 = accuracy_score(y_train, y_train_pred1)\n",
    "test_accuracy1 = accuracy_score(y_test, y_test_pred1)\n",
    "train_fbe1 = fbeta_score(y_train, y_train_pred1, average='weighted', beta=0.5)\n",
    "test_fbe1 = fbeta_score(y_test, y_test_pred1, average='weighted', beta=0.5)\n",
    "\n",
    "#Printing scores\n",
    "print('The training accuracy is', train_accuracy1)\n",
    "print('The testing accuracy is', test_accuracy1)\n",
    "print('The training fbeta is', train_fbe1)\n",
    "print('The testing fbeta is', test_fbe1)"
   ]
  },
  {
   "cell_type": "markdown",
   "metadata": {},
   "source": [
    "#### Testing model with Training Data"
   ]
  },
  {
   "cell_type": "code",
   "execution_count": 5,
   "metadata": {},
   "outputs": [
    {
     "name": "stdout",
     "output_type": "stream",
     "text": [
      "The testing accuracy is 0.997837625319\n",
      "The testing fbeta is 0.997705677837\n"
     ]
    }
   ],
   "source": [
    "#Predicted label value from model trained on training set\n",
    "Y_pred1 = mod1.predict(X)\n",
    "\n",
    "#Accuracy score and fbeta score for predicted value from test dataset\n",
    "train_accuracy_TestX1 = accuracy_score(Y, Y_pred1)\n",
    "test_fbe_TestX1 = fbeta_score(Y, Y_pred1,average='weighted', beta=0.5)\n",
    "\n",
    "#Printing scores\n",
    "print('The testing accuracy is', train_accuracy_TestX1)\n",
    "print('The testing fbeta is', test_fbe_TestX1)"
   ]
  },
  {
   "cell_type": "markdown",
   "metadata": {},
   "source": [
    "#### List of Predicted Exoplanet Systems"
   ]
  },
  {
   "cell_type": "code",
   "execution_count": 6,
   "metadata": {},
   "outputs": [
    {
     "name": "stdout",
     "output_type": "stream",
     "text": [
      "The stars from the list that are predicted to have exoplanets are:\n",
      "0\n",
      "1\n",
      "2\n",
      "3\n",
      "4\n",
      "5\n",
      "6\n",
      "7\n",
      "8\n",
      "10\n",
      "11\n",
      "15\n",
      "16\n",
      "17\n",
      "18\n",
      "19\n",
      "20\n",
      "21\n",
      "22\n",
      "24\n",
      "26\n",
      "28\n",
      "30\n",
      "31\n",
      "33\n",
      "34\n"
     ]
    }
   ],
   "source": [
    "#Printing list of stars with exoplanets\n",
    "print('The stars from the list that are predicted to have exoplanets are:')\n",
    "\n",
    "for i in range(len(Y_pred1)):\n",
    "    if Y_pred1[i]==2:\n",
    "        print(i)"
   ]
  },
  {
   "cell_type": "markdown",
   "metadata": {},
   "source": [
    "### XGBoost"
   ]
  },
  {
   "cell_type": "markdown",
   "metadata": {},
   "source": [
    "#### Baseline Model"
   ]
  },
  {
   "cell_type": "code",
   "execution_count": 7,
   "metadata": {},
   "outputs": [
    {
     "name": "stdout",
     "output_type": "stream",
     "text": [
      "The training accuracy is 0.999793046358\n",
      "The testing accuracy is 1.0\n",
      "The training fbeta is 0.999792159263\n",
      "The testing fbeta is 1.0\n"
     ]
    }
   ],
   "source": [
    "#Import XGBoost\n",
    "from xgboost import XGBClassifier\n",
    "model20 = XGBClassifier()\n",
    "\n",
    "#Fitting training data to baseline model\n",
    "mod20 = model20.fit(X_train,y_train)\n",
    "\n",
    "#Using trained model to predict training and testing data\n",
    "y_train_pred20 = mod20.predict(X_train)\n",
    "y_test_pred20 = mod20.predict(X_test)\n",
    "\n",
    "#Obtaining accuracy score\n",
    "train_accuracy20 = accuracy_score(y_train, y_train_pred20)\n",
    "test_accuracy20 = accuracy_score(y_test, y_test_pred20)\n",
    "\n",
    "#Obtaining fbeta score\n",
    "train_fbe20 = fbeta_score(y_train, y_train_pred20, average='weighted', beta=0.5)\n",
    "test_fbe20 = fbeta_score(y_test, y_test_pred20, average='weighted', beta=0.5)\n",
    "\n",
    "#Printing scores\n",
    "print('The training accuracy is', train_accuracy20)\n",
    "print('The testing accuracy is', test_accuracy20)\n",
    "print('The training fbeta is', train_fbe20)\n",
    "print('The testing fbeta is', test_fbe20)"
   ]
  },
  {
   "cell_type": "markdown",
   "metadata": {},
   "source": [
    "#### Finding Best Parameters"
   ]
  },
  {
   "cell_type": "code",
   "execution_count": 8,
   "metadata": {},
   "outputs": [
    {
     "name": "stdout",
     "output_type": "stream",
     "text": [
      "{'base_score': 0.5, 'booster': 'gbtree', 'colsample_bylevel': 1, 'colsample_bytree': 1, 'gamma': 0, 'learning_rate': 0.1, 'max_delta_step': 0, 'max_depth': 3, 'min_child_weight': 1, 'missing': None, 'n_estimators': 100, 'n_jobs': 1, 'nthread': None, 'objective': 'binary:logistic', 'random_state': 0, 'reg_alpha': 0, 'reg_lambda': 1, 'scale_pos_weight': 1, 'seed': None, 'silent': True, 'subsample': 1}\n"
     ]
    }
   ],
   "source": [
    "#Baseline model parameters\n",
    "paramxg = model20.get_params()\n",
    "print(paramxg)"
   ]
  },
  {
   "cell_type": "code",
   "execution_count": 9,
   "metadata": {},
   "outputs": [
    {
     "data": {
      "text/plain": [
       "{'learning_rate': 0.1, 'max_depth': 1}"
      ]
     },
     "execution_count": 9,
     "metadata": {},
     "output_type": "execute_result"
    }
   ],
   "source": [
    "#Getting best parameters for DecisionTreeClassifier\n",
    "paramxg2 = {'max_depth': [1,2,3,4,5,6,7], \n",
    "           'learning_rate': [0.1, 0.2, 0.3, 0.4, 0.5]}\n",
    "\n",
    "iris = datasets.load_iris()\n",
    "gsv = GridSearchCV(model20,paramxg2,cv=2)\n",
    "gsv.fit(iris.data, iris.target)\n",
    "gsv.best_params_"
   ]
  },
  {
   "cell_type": "markdown",
   "metadata": {},
   "source": [
    "#### Training Model"
   ]
  },
  {
   "cell_type": "code",
   "execution_count": 10,
   "metadata": {},
   "outputs": [
    {
     "name": "stdout",
     "output_type": "stream",
     "text": [
      "The training accuracy is 0.992342715232\n",
      "The testing accuracy is 1.0\n",
      "The training fbeta is 0.986254470741\n",
      "The testing fbeta is 1.0\n"
     ]
    },
    {
     "name": "stderr",
     "output_type": "stream",
     "text": [
      "/anaconda3/lib/python3.6/site-packages/sklearn/metrics/classification.py:1135: UndefinedMetricWarning: F-score is ill-defined and being set to 0.0 in labels with no predicted samples.\n",
      "  'precision', 'predicted', average, warn_for)\n"
     ]
    }
   ],
   "source": [
    "#Training XGBoost model with obtained parameters\n",
    "model2= XGBClassifier(learning_rate=0.1, max_depth = 1)\n",
    "\n",
    "#Fitting training data to trained model\n",
    "mod2 = model2.fit(X_train,y_train)\n",
    "\n",
    "#Using trained model to predict training and testing data\n",
    "y_train_pred2 = mod2.predict(X_train)\n",
    "y_test_pred2 = mod2.predict(X_test)\n",
    "\n",
    "#Obtaining accuracy score\n",
    "train_accuracy2 = accuracy_score(y_train, y_train_pred2)\n",
    "test_accuracy2 = accuracy_score(y_test, y_test_pred2)\n",
    "\n",
    "#Obtaining fbeta score\n",
    "train_fbe2 = fbeta_score(y_train, y_train_pred2, average='weighted', beta=0.5)\n",
    "test_fbe2 = fbeta_score(y_test, y_test_pred2, average='weighted', beta=0.5)\n",
    "\n",
    "#Printing scores\n",
    "print('The training accuracy is', train_accuracy2)\n",
    "print('The testing accuracy is', test_accuracy2)\n",
    "print('The training fbeta is', train_fbe2)\n",
    "print('The testing fbeta is', test_fbe2)"
   ]
  },
  {
   "cell_type": "markdown",
   "metadata": {},
   "source": [
    "#### Testing model with Training Data"
   ]
  },
  {
   "cell_type": "code",
   "execution_count": 11,
   "metadata": {},
   "outputs": [
    {
     "name": "stdout",
     "output_type": "stream",
     "text": [
      "The testing accuracy is 0.992726557893\n",
      "The testing fbeta is 0.986941711426\n"
     ]
    },
    {
     "name": "stderr",
     "output_type": "stream",
     "text": [
      "/anaconda3/lib/python3.6/site-packages/sklearn/metrics/classification.py:1135: UndefinedMetricWarning: F-score is ill-defined and being set to 0.0 in labels with no predicted samples.\n",
      "  'precision', 'predicted', average, warn_for)\n"
     ]
    }
   ],
   "source": [
    "#Predicted label value from model trained on training set\n",
    "Y_pred2 = mod2.predict(X)\n",
    "\n",
    "#Accuracy score and fbeta score for predicted value from test dataset\n",
    "train_accuracy_TestX2 = accuracy_score(Y, Y_pred2)\n",
    "test_fbe_TestX2 = fbeta_score(Y, Y_pred2,average='weighted', beta=0.5)\n",
    "\n",
    "#Printing scores\n",
    "print('The testing accuracy is', train_accuracy_TestX2)\n",
    "print('The testing fbeta is', test_fbe_TestX2)"
   ]
  },
  {
   "cell_type": "markdown",
   "metadata": {},
   "source": [
    "#### List of Predicted Exoplanet Systems"
   ]
  },
  {
   "cell_type": "code",
   "execution_count": 12,
   "metadata": {},
   "outputs": [
    {
     "name": "stdout",
     "output_type": "stream",
     "text": [
      "The stars from the list that are predicted to have exoplanets are:\n"
     ]
    }
   ],
   "source": [
    "#Printing list of stars with exoplanets\n",
    "print('The stars from the list that are predicted to have exoplanets are:')\n",
    "\n",
    "for i in range(len(Y_pred2)):\n",
    "    if Y_pred2[i]==2:\n",
    "        print(i)"
   ]
  },
  {
   "cell_type": "markdown",
   "metadata": {},
   "source": [
    "### LightGBM"
   ]
  },
  {
   "cell_type": "markdown",
   "metadata": {},
   "source": [
    "#### Baseline Model"
   ]
  },
  {
   "cell_type": "code",
   "execution_count": 13,
   "metadata": {},
   "outputs": [
    {
     "name": "stdout",
     "output_type": "stream",
     "text": [
      "The training accuracy is 1.0\n",
      "The testing accuracy is 1.0\n",
      "The training fbeta is 1.0\n",
      "The testing fbeta is 1.0\n"
     ]
    }
   ],
   "source": [
    "#Import LightGBM\n",
    "import lightgbm as lgb\n",
    "\n",
    "model30 = lgb.LGBMClassifier()\n",
    "\n",
    "mod30 = model30.fit(X_train,y_train)\n",
    "\n",
    "#Using trained model to predict training and testing data\n",
    "y_train_pred30 = mod30.predict(X_train)\n",
    "y_test_pred30 = mod30.predict(X_test)\n",
    "\n",
    "#Obtaining accuracy score\n",
    "train_accuracy30 = accuracy_score(y_train, y_train_pred30)\n",
    "test_accuracy30 = accuracy_score(y_test, y_test_pred30)\n",
    "\n",
    "#Obtaining fbeta score\n",
    "train_fbe30 = fbeta_score(y_train, y_train_pred30, average='weighted', beta=0.5)\n",
    "test_fbe30 = fbeta_score(y_test, y_test_pred30, average='weighted', beta=0.5)\n",
    "\n",
    "#Printing scores\n",
    "print('The training accuracy is', train_accuracy30)\n",
    "print('The testing accuracy is', test_accuracy30)\n",
    "print('The training fbeta is', train_fbe30)\n",
    "print('The testing fbeta is', test_fbe30)"
   ]
  },
  {
   "cell_type": "markdown",
   "metadata": {},
   "source": [
    "#### Finding Best Parameters"
   ]
  },
  {
   "cell_type": "code",
   "execution_count": 14,
   "metadata": {},
   "outputs": [
    {
     "name": "stdout",
     "output_type": "stream",
     "text": [
      "{'boosting_type': 'gbdt', 'class_weight': None, 'colsample_bytree': 1.0, 'learning_rate': 0.1, 'max_depth': -1, 'min_child_samples': 20, 'min_child_weight': 0.001, 'min_split_gain': 0.0, 'n_estimators': 100, 'n_jobs': -1, 'num_leaves': 31, 'objective': None, 'random_state': None, 'reg_alpha': 0.0, 'reg_lambda': 0.0, 'silent': True, 'subsample': 1.0, 'subsample_for_bin': 200000, 'subsample_freq': 0}\n"
     ]
    }
   ],
   "source": [
    "#Baseline model parameters\n",
    "paramlgbm = mod30.get_params()\n",
    "print(paramlgbm)"
   ]
  },
  {
   "cell_type": "code",
   "execution_count": 15,
   "metadata": {},
   "outputs": [
    {
     "data": {
      "text/plain": [
       "{'learning_rate': 0.5, 'num_leaves': 5}"
      ]
     },
     "execution_count": 15,
     "metadata": {},
     "output_type": "execute_result"
    }
   ],
   "source": [
    "#Getting best parameters for DecisionTreeClassifier\n",
    "paramlgbm2 = {'learning_rate': [0.01, 0.1, 0.03, 0.3, 0.05, 0.5],\n",
    "             'num_leaves': [5,10,20,30,40,50]}\n",
    "\n",
    "iris = datasets.load_iris()\n",
    "gsv = GridSearchCV(mod30,paramlgbm2,cv=10)\n",
    "gsv.fit(iris.data, iris.target)\n",
    "gsv.best_params_"
   ]
  },
  {
   "cell_type": "markdown",
   "metadata": {},
   "source": [
    "#### Training Model"
   ]
  },
  {
   "cell_type": "code",
   "execution_count": 16,
   "metadata": {},
   "outputs": [
    {
     "name": "stdout",
     "output_type": "stream",
     "text": [
      "The training accuracy is 0.984271523179\n",
      "The testing accuracy is 0.996078431373\n",
      "The training fbeta is 0.986030825161\n",
      "The testing fbeta is 0.999213217939\n"
     ]
    },
    {
     "name": "stderr",
     "output_type": "stream",
     "text": [
      "/anaconda3/lib/python3.6/site-packages/sklearn/metrics/classification.py:1137: UndefinedMetricWarning: F-score is ill-defined and being set to 0.0 in labels with no true samples.\n",
      "  'recall', 'true', average, warn_for)\n"
     ]
    }
   ],
   "source": [
    "model3 = lgb.LGBMClassifier(learning_rate = 0.5, num_leaves = 5)\n",
    "\n",
    "mod3 = model3.fit(X_train,y_train)\n",
    "\n",
    "#Using trained model to predict training and testing data\n",
    "y_train_pred3 = mod3.predict(X_train)\n",
    "y_test_pred3 = mod3.predict(X_test)\n",
    "\n",
    "    \n",
    "#Obtaining accuracy score\n",
    "train_accuracy3 = accuracy_score(y_train, y_train_pred3)\n",
    "test_accuracy3 = accuracy_score(y_test, y_test_pred3)\n",
    "\n",
    "#Obtaining fbeta score\n",
    "train_fbe3 = fbeta_score(y_train, y_train_pred3, average='weighted', beta=0.5)\n",
    "test_fbe3 = fbeta_score(y_test, y_test_pred3, average='weighted', beta=0.5)\n",
    "\n",
    "#Printing scores\n",
    "print('The training accuracy is', train_accuracy3)\n",
    "print('The testing accuracy is', test_accuracy3)\n",
    "print('The training fbeta is', train_fbe3)\n",
    "print('The testing fbeta is', test_fbe3)"
   ]
  },
  {
   "cell_type": "markdown",
   "metadata": {},
   "source": [
    "#### Testing model with Training Data"
   ]
  },
  {
   "cell_type": "code",
   "execution_count": 17,
   "metadata": {},
   "outputs": [
    {
     "name": "stdout",
     "output_type": "stream",
     "text": [
      "The testing accuracy is 0.984863377236\n",
      "The testing fbeta is 0.986678111086\n"
     ]
    }
   ],
   "source": [
    "#Predicted label value from model trained on training set\n",
    "Y_pred3 = mod3.predict(X)\n",
    "\n",
    "#Accuracy score and fbeta score for predicted value from test dataset\n",
    "train_accuracy_TestX3 = accuracy_score(Y, Y_pred3)\n",
    "test_fbe_TestX3 = fbeta_score(Y, Y_pred3,average='weighted', beta=0.5)\n",
    "\n",
    "#Printing scores\n",
    "print('The testing accuracy is', train_accuracy_TestX3)\n",
    "print('The testing fbeta is', test_fbe_TestX3)"
   ]
  },
  {
   "cell_type": "markdown",
   "metadata": {},
   "source": [
    "#### List of Predicted Exoplanet Systems"
   ]
  },
  {
   "cell_type": "code",
   "execution_count": 18,
   "metadata": {},
   "outputs": [
    {
     "name": "stdout",
     "output_type": "stream",
     "text": [
      "The stars from the list that are predicted to have exoplanets are:\n",
      "1\n",
      "9\n",
      "22\n",
      "25\n",
      "33\n",
      "239\n",
      "501\n",
      "519\n",
      "586\n",
      "798\n",
      "893\n",
      "1010\n",
      "1078\n",
      "1157\n",
      "1188\n",
      "1210\n",
      "1236\n",
      "1639\n",
      "1660\n",
      "1780\n",
      "1827\n",
      "1866\n",
      "2016\n",
      "2101\n",
      "2106\n",
      "2164\n",
      "2385\n",
      "2405\n",
      "2443\n",
      "2488\n",
      "2678\n",
      "2689\n",
      "3274\n",
      "3326\n",
      "3462\n",
      "3560\n",
      "3669\n",
      "3872\n",
      "3890\n",
      "3978\n",
      "3989\n",
      "4119\n",
      "4122\n",
      "4579\n",
      "4618\n",
      "4709\n",
      "4859\n",
      "4914\n",
      "5017\n",
      "5049\n"
     ]
    }
   ],
   "source": [
    "#Printing list of stars with exoplanets\n",
    "print('The stars from the list that are predicted to have exoplanets are:')\n",
    "\n",
    "for i in range(len(Y_pred3)):\n",
    "    if Y_pred3[i]==2:\n",
    "        print(i)"
   ]
  },
  {
   "cell_type": "markdown",
   "metadata": {},
   "source": [
    "## Testing Trained Models"
   ]
  },
  {
   "cell_type": "markdown",
   "metadata": {},
   "source": [
    "To test this model, the X values obtained above will be put into the model and the new Y label outputs will be compared with the original Y values. A list will be generated that shows the predicted exoplanet from the output Y values from the trained model. \n",
    "\n",
    "This will be done for all three algorithms. "
   ]
  },
  {
   "cell_type": "markdown",
   "metadata": {},
   "source": [
    "### Downloading and Splitting Testing Data"
   ]
  },
  {
   "cell_type": "markdown",
   "metadata": {},
   "source": [
    "The data from exoTest.csv will be downloaded and split into a training and testing set. \n",
    "\n",
    "As with the exoTrain data, the first column of the dataset is the label or the Y-values entered into the train_test_split. The values labeled 2 are systems with exoplanets. The values labeled 1 are systems without exoplanets. Therefore, there are 37 systems labeled with a 2, and the rest are labeled with a 1. "
   ]
  },
  {
   "cell_type": "code",
   "execution_count": 19,
   "metadata": {},
   "outputs": [],
   "source": [
    "#Importing exoTest.csv\n",
    "data_Test = pd.read_csv(\"exoTest.csv\")\n",
    "\n",
    "\"\"\"\n",
    "As before, the dataset needs to be separated into the label and data inputs for the train_test_split function.\n",
    "\"\"\"\n",
    "new_X = data_Test.iloc[:,1:]\n",
    "new_Y= data_Test.iloc[:,0]"
   ]
  },
  {
   "cell_type": "markdown",
   "metadata": {},
   "source": [
    "## Predicting Using Trained Models \n",
    "To test this model, the new_X values obtained above will be put into the model and the new predicted Y label outputs will be compared with the original new_Y values. A list will be generated that shows the predicted exoplanet from the output Y values from the trained model. \n",
    "\n",
    "This will be done for all three algorithms. "
   ]
  },
  {
   "cell_type": "markdown",
   "metadata": {},
   "source": [
    "### DecisionTreeClassifier"
   ]
  },
  {
   "cell_type": "markdown",
   "metadata": {},
   "source": [
    "#### Using Trained Model to Predict Testing Data"
   ]
  },
  {
   "cell_type": "code",
   "execution_count": 20,
   "metadata": {},
   "outputs": [
    {
     "name": "stdout",
     "output_type": "stream",
     "text": [
      "The testing accuracy is 0.985964912281\n",
      "The testing fbeta is 0.98790437869\n"
     ]
    }
   ],
   "source": [
    "#Predicted label value from model trained on training set\n",
    "new_Y_pred1 = mod1.predict(new_X)\n",
    "\n",
    "#Accuracy score and fbeta score for predicted value from test dataset\n",
    "train_accuracy_Test1 = accuracy_score(new_Y, new_Y_pred1)\n",
    "test_fbe_Test1 = fbeta_score(new_Y, new_Y_pred1,average='weighted', beta=0.5)\n",
    "\n",
    "#Printing scores\n",
    "print('The testing accuracy is', train_accuracy_Test1)\n",
    "print('The testing fbeta is', test_fbe_Test1)"
   ]
  },
  {
   "cell_type": "markdown",
   "metadata": {},
   "source": [
    "#### List of Predicted Exoplanet Systems"
   ]
  },
  {
   "cell_type": "code",
   "execution_count": 21,
   "metadata": {},
   "outputs": [
    {
     "name": "stdout",
     "output_type": "stream",
     "text": [
      "The stars from the list that are predicted to have exoplanets are:\n",
      "0\n",
      "1\n",
      "25\n",
      "124\n",
      "246\n",
      "264\n",
      "366\n"
     ]
    }
   ],
   "source": [
    "#Printing list of stars with exoplanets\n",
    "print('The stars from the list that are predicted to have exoplanets are:')\n",
    "\n",
    "for i in range(len(new_Y_pred1)):\n",
    "    if new_Y_pred1[i]==2:\n",
    "        print(i)"
   ]
  },
  {
   "cell_type": "markdown",
   "metadata": {},
   "source": [
    "### XGBoost"
   ]
  },
  {
   "cell_type": "markdown",
   "metadata": {},
   "source": [
    "#### Using Trained Model to Predict Testing Data"
   ]
  },
  {
   "cell_type": "code",
   "execution_count": 22,
   "metadata": {},
   "outputs": [
    {
     "name": "stdout",
     "output_type": "stream",
     "text": [
      "The testing accuracy is 0.991228070175\n",
      "The testing fbeta is 0.984259858786\n"
     ]
    },
    {
     "name": "stderr",
     "output_type": "stream",
     "text": [
      "/anaconda3/lib/python3.6/site-packages/sklearn/metrics/classification.py:1135: UndefinedMetricWarning: F-score is ill-defined and being set to 0.0 in labels with no predicted samples.\n",
      "  'precision', 'predicted', average, warn_for)\n"
     ]
    }
   ],
   "source": [
    "#Predicted label value from model trained on training set\n",
    "new_Y_pred2 = mod2.predict(new_X)\n",
    "\n",
    "#Accuracy score and fbeta score for predicted value from test dataset\n",
    "train_accuracy_Test2 = accuracy_score(new_Y, new_Y_pred2)\n",
    "test_fbe_Test2 = fbeta_score(new_Y, new_Y_pred2,average='weighted', beta=0.5)\n",
    "\n",
    "#Printing scores\n",
    "print('The testing accuracy is', train_accuracy_Test2)\n",
    "print('The testing fbeta is', test_fbe_Test2)"
   ]
  },
  {
   "cell_type": "markdown",
   "metadata": {},
   "source": [
    "#### List of Predicted Exoplanet Systems"
   ]
  },
  {
   "cell_type": "code",
   "execution_count": 23,
   "metadata": {},
   "outputs": [
    {
     "name": "stdout",
     "output_type": "stream",
     "text": [
      "The stars from the list that are predicted to have exoplanets are:\n"
     ]
    }
   ],
   "source": [
    "#Printing list of stars with exoplanets\n",
    "\n",
    "print('The stars from the list that are predicted to have exoplanets are:')\n",
    "\n",
    "for i in range(len(new_Y_pred2)):\n",
    "    if new_Y_pred2[i]==2:\n",
    "        print(i)"
   ]
  },
  {
   "cell_type": "markdown",
   "metadata": {},
   "source": [
    "### LigthGBM"
   ]
  },
  {
   "cell_type": "markdown",
   "metadata": {},
   "source": [
    "#### Using Trained Model to Predict Testing Data"
   ]
  },
  {
   "cell_type": "code",
   "execution_count": 24,
   "metadata": {},
   "outputs": [
    {
     "name": "stdout",
     "output_type": "stream",
     "text": [
      "The testing accuracy is 0.980701754386\n",
      "The testing fbeta is 0.982092327593\n"
     ]
    }
   ],
   "source": [
    "#Predicted label value from model trained on training set\n",
    "new_Y_pred3 = mod3.predict(new_X)\n",
    "\n",
    "#Accuracy score and fbeta score for predicted value from test dataset\n",
    "train_accuracy_Test3 = accuracy_score(new_Y, new_Y_pred3)\n",
    "test_fbe_Test3 = fbeta_score(new_Y, new_Y_pred3,average='weighted', beta=0.5)\n",
    "\n",
    "#Printing scores\n",
    "print('The testing accuracy is', train_accuracy_Test3)\n",
    "print('The testing fbeta is', test_fbe_Test3)"
   ]
  },
  {
   "cell_type": "markdown",
   "metadata": {},
   "source": [
    "#### List of Predicted Exoplanet Systems"
   ]
  },
  {
   "cell_type": "code",
   "execution_count": 25,
   "metadata": {},
   "outputs": [
    {
     "name": "stdout",
     "output_type": "stream",
     "text": [
      "The stars from the list that are predicted to have exoplanets are:\n",
      "165\n",
      "178\n",
      "232\n",
      "249\n",
      "262\n",
      "545\n"
     ]
    }
   ],
   "source": [
    "#Printing list of stars with exoplanets\n",
    "\n",
    "print('The stars from the list that are predicted to have exoplanets are:')\n",
    "\n",
    "for i in range(len(new_Y_pred3)):\n",
    "    if new_Y_pred3[i]==2:\n",
    "        print(i)"
   ]
  },
  {
   "cell_type": "code",
   "execution_count": null,
   "metadata": {},
   "outputs": [],
   "source": []
  }
 ],
 "metadata": {
  "kernelspec": {
   "display_name": "Python 3",
   "language": "python",
   "name": "python3"
  },
  "language_info": {
   "codemirror_mode": {
    "name": "ipython",
    "version": 3
   },
   "file_extension": ".py",
   "mimetype": "text/x-python",
   "name": "python",
   "nbconvert_exporter": "python",
   "pygments_lexer": "ipython3",
   "version": "3.6.4"
  }
 },
 "nbformat": 4,
 "nbformat_minor": 2
}
